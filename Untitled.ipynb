{
 "cells": [
  {
   "cell_type": "code",
   "execution_count": 57,
   "id": "fb8021ef",
   "metadata": {},
   "outputs": [],
   "source": [
    "import seaborn as sns\n",
    "import matplotlib.pyplot as plt\n",
    "import pandas as pd\n",
    "from sklearn.preprocessing import LabelEncoder\n",
    "%matplotlib inline\n",
    "titanic = sns.load_dataset('titanic')\n",
    "X = titanic[['sex','age','fare','class','embark_town','alone']].copy()\n",
    "Y = titanic['alive']"
   ]
  },
  {
   "cell_type": "code",
   "execution_count": 58,
   "id": "b79b2c22",
   "metadata": {},
   "outputs": [
    {
     "name": "stdout",
     "output_type": "stream",
     "text": [
      "Sex: 0\n",
      "Age: 177\n",
      "Fare: 0\n",
      "Class: 0\n",
      "Embark town: 2\n",
      "Alone: 0\n"
     ]
    }
   ],
   "source": [
    "print(\"Sex: \" + str(X['sex'].isnull().sum()))\n",
    "print(\"Age: \" + str(X['age'].isnull().sum()))\n",
    "print(\"Fare: \" + str(X['fare'].isnull().sum()))\n",
    "print(\"Class: \" + str(X['class'].isnull().sum()))\n",
    "print(\"Embark town: \" + str(X['embark_town'].isnull().sum()))\n",
    "print(\"Alone: \" + str(X['alone'].isnull().sum()))"
   ]
  },
  {
   "cell_type": "code",
   "execution_count": 59,
   "id": "a7e170e5",
   "metadata": {},
   "outputs": [],
   "source": [
    "mean = X['age'].mean()\n",
    "mean =round(mean)\n",
    "X['age'].fillna(mean,inplace = True)"
   ]
  },
  {
   "cell_type": "code",
   "execution_count": 60,
   "id": "b03b4045",
   "metadata": {},
   "outputs": [
    {
     "data": {
      "text/plain": [
       "sex            0\n",
       "age            0\n",
       "fare           0\n",
       "class          0\n",
       "embark_town    2\n",
       "alone          0\n",
       "dtype: int64"
      ]
     },
     "execution_count": 60,
     "metadata": {},
     "output_type": "execute_result"
    }
   ],
   "source": [
    "X.isnull().sum()"
   ]
  },
  {
   "cell_type": "code",
   "execution_count": 61,
   "id": "ec5ed5bf",
   "metadata": {},
   "outputs": [
    {
     "name": "stdout",
     "output_type": "stream",
     "text": [
      "age : (891, 6)\n",
      "fare : (891, 6)\n"
     ]
    }
   ],
   "source": [
    "features = [\"age\", \"fare\"]\n",
    "for feature in features:\n",
    "    min_ = X[feature].mean() - (3 * X[feature].std())\n",
    "    max_ = X[feature].mean() + (3 * X[feature].std())\n",
    "    X1 = X[X[feature] <= max_]\n",
    "    X1 = X[X[feature] >= min_]\n",
    "    print(feature,    \":\", X1.shape)"
   ]
  },
  {
   "cell_type": "code",
   "execution_count": 62,
   "id": "bee038f7",
   "metadata": {},
   "outputs": [
    {
     "data": {
      "text/plain": [
       "(891, 6)"
      ]
     },
     "execution_count": 62,
     "metadata": {},
     "output_type": "execute_result"
    }
   ],
   "source": [
    "X1.shape\n",
    "#X1.isnull().sum()"
   ]
  },
  {
   "cell_type": "markdown",
   "id": "7caafbc1",
   "metadata": {},
   "source": [
    "## Handle Categorical features"
   ]
  },
  {
   "cell_type": "code",
   "execution_count": 63,
   "id": "29339c56",
   "metadata": {},
   "outputs": [],
   "source": [
    "# Using a for loop and LabelEncoder\n",
    "enc =  LabelEncoder()\n",
    "cat_col = (X1.drop(['age','fare'],axis=1)).columns\n",
    "for col in cat_col:\n",
    "    X1[col] = enc.fit_transform(X1[col].astype('str'))\n",
    "    "
   ]
  },
  {
   "cell_type": "code",
   "execution_count": 64,
   "id": "d79c1bf0",
   "metadata": {},
   "outputs": [
    {
     "data": {
      "text/html": [
       "<div>\n",
       "<style scoped>\n",
       "    .dataframe tbody tr th:only-of-type {\n",
       "        vertical-align: middle;\n",
       "    }\n",
       "\n",
       "    .dataframe tbody tr th {\n",
       "        vertical-align: top;\n",
       "    }\n",
       "\n",
       "    .dataframe thead th {\n",
       "        text-align: right;\n",
       "    }\n",
       "</style>\n",
       "<table border=\"1\" class=\"dataframe\">\n",
       "  <thead>\n",
       "    <tr style=\"text-align: right;\">\n",
       "      <th></th>\n",
       "      <th>sex</th>\n",
       "      <th>age</th>\n",
       "      <th>fare</th>\n",
       "      <th>class</th>\n",
       "      <th>embark_town</th>\n",
       "      <th>alone</th>\n",
       "    </tr>\n",
       "  </thead>\n",
       "  <tbody>\n",
       "    <tr>\n",
       "      <th>0</th>\n",
       "      <td>1</td>\n",
       "      <td>22.0</td>\n",
       "      <td>7.2500</td>\n",
       "      <td>2</td>\n",
       "      <td>2</td>\n",
       "      <td>0</td>\n",
       "    </tr>\n",
       "    <tr>\n",
       "      <th>1</th>\n",
       "      <td>0</td>\n",
       "      <td>38.0</td>\n",
       "      <td>71.2833</td>\n",
       "      <td>0</td>\n",
       "      <td>0</td>\n",
       "      <td>0</td>\n",
       "    </tr>\n",
       "    <tr>\n",
       "      <th>2</th>\n",
       "      <td>0</td>\n",
       "      <td>26.0</td>\n",
       "      <td>7.9250</td>\n",
       "      <td>2</td>\n",
       "      <td>2</td>\n",
       "      <td>1</td>\n",
       "    </tr>\n",
       "    <tr>\n",
       "      <th>3</th>\n",
       "      <td>0</td>\n",
       "      <td>35.0</td>\n",
       "      <td>53.1000</td>\n",
       "      <td>0</td>\n",
       "      <td>2</td>\n",
       "      <td>0</td>\n",
       "    </tr>\n",
       "    <tr>\n",
       "      <th>4</th>\n",
       "      <td>1</td>\n",
       "      <td>35.0</td>\n",
       "      <td>8.0500</td>\n",
       "      <td>2</td>\n",
       "      <td>2</td>\n",
       "      <td>1</td>\n",
       "    </tr>\n",
       "  </tbody>\n",
       "</table>\n",
       "</div>"
      ],
      "text/plain": [
       "   sex   age     fare  class  embark_town  alone\n",
       "0    1  22.0   7.2500      2            2      0\n",
       "1    0  38.0  71.2833      0            0      0\n",
       "2    0  26.0   7.9250      2            2      1\n",
       "3    0  35.0  53.1000      0            2      0\n",
       "4    1  35.0   8.0500      2            2      1"
      ]
     },
     "execution_count": 64,
     "metadata": {},
     "output_type": "execute_result"
    }
   ],
   "source": [
    "X1.head()"
   ]
  },
  {
   "cell_type": "code",
   "execution_count": 65,
   "id": "acbc96b3",
   "metadata": {},
   "outputs": [
    {
     "data": {
      "text/html": [
       "<div>\n",
       "<style scoped>\n",
       "    .dataframe tbody tr th:only-of-type {\n",
       "        vertical-align: middle;\n",
       "    }\n",
       "\n",
       "    .dataframe tbody tr th {\n",
       "        vertical-align: top;\n",
       "    }\n",
       "\n",
       "    .dataframe thead th {\n",
       "        text-align: right;\n",
       "    }\n",
       "</style>\n",
       "<table border=\"1\" class=\"dataframe\">\n",
       "  <thead>\n",
       "    <tr style=\"text-align: right;\">\n",
       "      <th></th>\n",
       "      <th>sex</th>\n",
       "      <th>age</th>\n",
       "      <th>fare</th>\n",
       "      <th>class</th>\n",
       "      <th>embark_town</th>\n",
       "      <th>alone</th>\n",
       "    </tr>\n",
       "  </thead>\n",
       "  <tbody>\n",
       "    <tr>\n",
       "      <th>0</th>\n",
       "      <td>1.0</td>\n",
       "      <td>0.271174</td>\n",
       "      <td>0.014151</td>\n",
       "      <td>1.0</td>\n",
       "      <td>0.666667</td>\n",
       "      <td>0.0</td>\n",
       "    </tr>\n",
       "    <tr>\n",
       "      <th>1</th>\n",
       "      <td>0.0</td>\n",
       "      <td>0.472229</td>\n",
       "      <td>0.139136</td>\n",
       "      <td>0.0</td>\n",
       "      <td>0.000000</td>\n",
       "      <td>0.0</td>\n",
       "    </tr>\n",
       "    <tr>\n",
       "      <th>2</th>\n",
       "      <td>0.0</td>\n",
       "      <td>0.321438</td>\n",
       "      <td>0.015469</td>\n",
       "      <td>1.0</td>\n",
       "      <td>0.666667</td>\n",
       "      <td>1.0</td>\n",
       "    </tr>\n",
       "    <tr>\n",
       "      <th>3</th>\n",
       "      <td>0.0</td>\n",
       "      <td>0.434531</td>\n",
       "      <td>0.103644</td>\n",
       "      <td>0.0</td>\n",
       "      <td>0.666667</td>\n",
       "      <td>0.0</td>\n",
       "    </tr>\n",
       "    <tr>\n",
       "      <th>4</th>\n",
       "      <td>1.0</td>\n",
       "      <td>0.434531</td>\n",
       "      <td>0.015713</td>\n",
       "      <td>1.0</td>\n",
       "      <td>0.666667</td>\n",
       "      <td>1.0</td>\n",
       "    </tr>\n",
       "    <tr>\n",
       "      <th>5</th>\n",
       "      <td>1.0</td>\n",
       "      <td>0.371701</td>\n",
       "      <td>0.016510</td>\n",
       "      <td>1.0</td>\n",
       "      <td>0.333333</td>\n",
       "      <td>1.0</td>\n",
       "    </tr>\n",
       "    <tr>\n",
       "      <th>6</th>\n",
       "      <td>1.0</td>\n",
       "      <td>0.673285</td>\n",
       "      <td>0.101229</td>\n",
       "      <td>0.0</td>\n",
       "      <td>0.666667</td>\n",
       "      <td>1.0</td>\n",
       "    </tr>\n",
       "    <tr>\n",
       "      <th>7</th>\n",
       "      <td>1.0</td>\n",
       "      <td>0.019854</td>\n",
       "      <td>0.041136</td>\n",
       "      <td>1.0</td>\n",
       "      <td>0.666667</td>\n",
       "      <td>0.0</td>\n",
       "    </tr>\n",
       "    <tr>\n",
       "      <th>8</th>\n",
       "      <td>0.0</td>\n",
       "      <td>0.334004</td>\n",
       "      <td>0.021731</td>\n",
       "      <td>1.0</td>\n",
       "      <td>0.666667</td>\n",
       "      <td>0.0</td>\n",
       "    </tr>\n",
       "    <tr>\n",
       "      <th>9</th>\n",
       "      <td>0.0</td>\n",
       "      <td>0.170646</td>\n",
       "      <td>0.058694</td>\n",
       "      <td>0.5</td>\n",
       "      <td>0.000000</td>\n",
       "      <td>0.0</td>\n",
       "    </tr>\n",
       "  </tbody>\n",
       "</table>\n",
       "</div>"
      ],
      "text/plain": [
       "   sex       age      fare  class  embark_town  alone\n",
       "0  1.0  0.271174  0.014151    1.0     0.666667    0.0\n",
       "1  0.0  0.472229  0.139136    0.0     0.000000    0.0\n",
       "2  0.0  0.321438  0.015469    1.0     0.666667    1.0\n",
       "3  0.0  0.434531  0.103644    0.0     0.666667    0.0\n",
       "4  1.0  0.434531  0.015713    1.0     0.666667    1.0\n",
       "5  1.0  0.371701  0.016510    1.0     0.333333    1.0\n",
       "6  1.0  0.673285  0.101229    0.0     0.666667    1.0\n",
       "7  1.0  0.019854  0.041136    1.0     0.666667    0.0\n",
       "8  0.0  0.334004  0.021731    1.0     0.666667    0.0\n",
       "9  0.0  0.170646  0.058694    0.5     0.000000    0.0"
      ]
     },
     "execution_count": 65,
     "metadata": {},
     "output_type": "execute_result"
    }
   ],
   "source": [
    "# Normalize features\n",
    "X1 = (X1 - X1.min()) / (X1.max() - X1.min())\n",
    "X1.head(10)"
   ]
  },
  {
   "cell_type": "code",
   "execution_count": 66,
   "id": "180d2697",
   "metadata": {},
   "outputs": [],
   "source": [
    "# Normalize target variable\n",
    "Y = enc.fit_transform(Y.astype('str'))"
   ]
  },
  {
   "cell_type": "code",
   "execution_count": null,
   "id": "8de367a6",
   "metadata": {},
   "outputs": [],
   "source": []
  }
 ],
 "metadata": {
  "kernelspec": {
   "display_name": "Python 3 (ipykernel)",
   "language": "python",
   "name": "python3"
  },
  "language_info": {
   "codemirror_mode": {
    "name": "ipython",
    "version": 3
   },
   "file_extension": ".py",
   "mimetype": "text/x-python",
   "name": "python",
   "nbconvert_exporter": "python",
   "pygments_lexer": "ipython3",
   "version": "3.8.12"
  }
 },
 "nbformat": 4,
 "nbformat_minor": 5
}
